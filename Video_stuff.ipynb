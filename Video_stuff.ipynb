{
 "cells": [
  {
   "cell_type": "code",
   "execution_count": 1,
   "metadata": {
    "colab": {},
    "colab_type": "code",
    "id": "VlwV2MsHtP_M"
   },
   "outputs": [],
   "source": [
    "from project1 import BatchNormalization,DarknetConv,DarknetResidual,DarknetBlock,Darknet,YoloConv,YoloOutput,yolo_boxes,yolo_nms,YoloV3,load_darknet_weights,transform_images"
   ]
  },
  {
   "cell_type": "code",
   "execution_count": 2,
   "metadata": {
    "colab": {},
    "colab_type": "code",
    "id": "p-8LqriitYCl"
   },
   "outputs": [],
   "source": [
    "import cv2\n",
    "from PIL import Image\n",
    "import numpy as np\n",
    "import tensorflow as tf\n",
    "import urllib3"
   ]
  },
  {
   "cell_type": "code",
   "execution_count": 3,
   "metadata": {},
   "outputs": [],
   "source": [
    "import time"
   ]
  },
  {
   "cell_type": "code",
   "execution_count": 4,
   "metadata": {
    "colab": {},
    "colab_type": "code",
    "id": "Fz1tETnOu11Z"
   },
   "outputs": [],
   "source": [
    "YOLOV3_LAYER_LIST = [\n",
    "    'yolo_darknet',\n",
    "    'yolo_conv_0',\n",
    "    'yolo_output_0',\n",
    "    'yolo_conv_1',\n",
    "    'yolo_output_1',\n",
    "    'yolo_conv_2',\n",
    "    'yolo_output_2',\n",
    "]"
   ]
  },
  {
   "cell_type": "code",
   "execution_count": 5,
   "metadata": {
    "colab": {},
    "colab_type": "code",
    "id": "VJKmSYSoysNi"
   },
   "outputs": [],
   "source": [
    "yolo_anchors = np.array([(10, 13), (16, 30), (33, 23), (30, 61), (62, 45),\n",
    "                         (59, 119), (116, 90), (156, 198), (373, 326)],\n",
    "                        np.float32) / 416\n",
    "yolo_anchor_masks = np.array([[6, 7, 8], [3, 4, 5], [0, 1, 2]])"
   ]
  },
  {
   "cell_type": "code",
   "execution_count": 6,
   "metadata": {
    "colab": {},
    "colab_type": "code",
    "id": "91FLJrVaysLd"
   },
   "outputs": [],
   "source": [
    "class_names = [c.strip() for c in open('coco.names').readlines()]\n",
    "n_classes=len(class_names)"
   ]
  },
  {
   "cell_type": "code",
   "execution_count": 7,
   "metadata": {
    "colab": {},
    "colab_type": "code",
    "id": "XEQBlQtNysJN"
   },
   "outputs": [],
   "source": [
    "yolo = YoloV3(classes=n_classes)"
   ]
  },
  {
   "cell_type": "code",
   "execution_count": 8,
   "metadata": {},
   "outputs": [],
   "source": [
    "load_darknet_weights(yolo,'yolov3.weights')"
   ]
  },
  {
   "cell_type": "code",
   "execution_count": 9,
   "metadata": {
    "colab": {},
    "colab_type": "code",
    "id": "nDpuu0ArysEZ"
   },
   "outputs": [],
   "source": [
    "'''\n",
    "def decode_image(img_path):\n",
    "    #img = cv2.imread(img_path)\n",
    "    img = tf.image.decode_image(open(img_path, 'rb').read(), channels=3)\n",
    "    img = tf.expand_dims(img, 0)\n",
    "    img_test = transform_images(img, 416)\n",
    "    return (img_test)\n",
    "'''\n",
    "def decode_image(img):\n",
    "    img = tf.convert_to_tensor(img)\n",
    "    img = tf.expand_dims(img, 0)\n",
    "    img_test = transform_images(img, 416)\n",
    "    return (img_test)"
   ]
  },
  {
   "cell_type": "code",
   "execution_count": 10,
   "metadata": {},
   "outputs": [],
   "source": [
    "def calculate(outputs, class_names):\n",
    "    vehicle = 0\n",
    "    pedestrian = 0\n",
    "    boxes, objectness, classes, nums = outputs\n",
    "    boxes, objectness, classes, nums = boxes[0], objectness[0], classes[0], nums[0]\n",
    "    #print(classes)\n",
    "\n",
    "    for i in range(nums):\n",
    "        if (class_names[int(classes.numpy()[i])]) == \"person\":\n",
    "            pedestrian = pedestrian+1\n",
    "        elif (class_names[int(classes.numpy()[i])]) == \"car\" or (class_names[int(classes.numpy()[i])]) == \"truck\" or (class_names[int(classes.numpy()[i])]) == \"bus\":\n",
    "            vehicle = vehicle+1\n",
    "    return(vehicle,pedestrian)\n"
   ]
  },
  {
   "cell_type": "code",
   "execution_count": 11,
   "metadata": {
    "colab": {},
    "colab_type": "code",
    "id": "xlzMIodQz-8u"
   },
   "outputs": [],
   "source": [
    "def draw_outputs(img, outputs, class_names):\n",
    "    boxes, objectness, classes, nums = outputs\n",
    "    boxes, objectness, classes, nums = boxes[0], objectness[0], classes[0], nums[0]\n",
    "    wh = np.flip(img.shape[0:2])\n",
    "    for i in range(nums):\n",
    "        if (class_names[int(classes.numpy()[i])]) == \"person\":\n",
    "            x1y1 = tuple((np.array(boxes[i][0:2]) * wh).astype(np.int32))\n",
    "            x2y2 = tuple((np.array(boxes[i][2:4]) * wh).astype(np.int32))\n",
    "            img = cv2.rectangle(img, x1y1, x2y2, (255, 0, 0), 2)\n",
    "            img = cv2.putText(img, '{} {:.4f}'.format(class_names[int(classes[i])], objectness[i]),\n",
    "                              x1y1, cv2.FONT_HERSHEY_COMPLEX_SMALL, 1, (0, 0, 255), 2)\n",
    "            \n",
    "        elif (class_names[int(classes.numpy()[i])]) == \"car\" or (class_names[int(classes.numpy()[i])]) == \"truck\" or (class_names[int(classes.numpy()[i])]) == \"bus\":\n",
    "            x1y1 = tuple((np.array(boxes[i][0:2]) * wh).astype(np.int32))\n",
    "            x2y2 = tuple((np.array(boxes[i][2:4]) * wh).astype(np.int32))\n",
    "            img = cv2.rectangle(img, x1y1, x2y2, (255, 0, 0), 2)\n",
    "            img = cv2.putText(img, '{} {:.4f}'.format(class_names[int(classes[i])], objectness[i]),\n",
    "                              x1y1, cv2.FONT_HERSHEY_COMPLEX_SMALL, 1, (0, 0, 255), 2)\n",
    "    return img"
   ]
  },
  {
   "cell_type": "code",
   "execution_count": 14,
   "metadata": {
    "colab": {},
    "colab_type": "code",
    "id": "ie_zabkPyr91"
   },
   "outputs": [],
   "source": [
    "\n",
    "def read_cam():\n",
    "    import requests\n",
    "    myAPI = \"M7VF4BS94JYVEC0L\"\n",
    "    baseURL = 'https://api.thingspeak.com/update'\n",
    "    #cap = cv2.VideoCapture('Cars moving on road Stock Footage - Free Download.mp4')\n",
    "    cap = cv2.VideoCapture(0)\n",
    "    \n",
    "    #cap = cv2.VideoCapture('Busy traffic in Kolkata - West Bengal.mp4')\n",
    "    frame_count = 0\n",
    "    \n",
    "    while(cap.isOpened()):\n",
    "        ret, frame = cap.read()\n",
    "        frame_count = frame_count+1\n",
    "        if ret == True:\n",
    "            #cv2.imwrite(\"test.jpg\",frame)\n",
    "            #img_path = \"test.jpg\"\n",
    "            boxes, scores, classes, nums = yolo(decode_image(frame))\n",
    "            img= draw_outputs(frame, (boxes, scores, classes, nums), class_names)\n",
    "            v,p = calculate((boxes, scores, classes, nums),class_names)\n",
    "            print(v,\" \",p)\n",
    "            payload = {'api_key': myAPI, 'field1': str(v),'field2': str(p)}\n",
    "            a = requests.post(baseURL,params = payload)\n",
    "            cv2.imshow(\"output\",img)\n",
    "            #cv2.imwrite('C://Users/DEBANJAN GHOSH/Downloads/video/image'+str(frame_count)+'.jpeg',img)\n",
    "        if cv2.waitKey(1) == ord('q'):\n",
    "            break\n",
    "    \n",
    "    cap.release()\n",
    "    cv2.destroyAllWindows()"
   ]
  },
  {
   "cell_type": "code",
   "execution_count": 15,
   "metadata": {
    "colab": {},
    "colab_type": "code",
    "id": "HRM5hoWT43b7"
   },
   "outputs": [
    {
     "name": "stdout",
     "output_type": "stream",
     "text": [
      "0   6\n",
      "0   4\n",
      "0   6\n",
      "0   7\n",
      "0   7\n",
      "0   5\n",
      "0   7\n",
      "1   3\n",
      "1   6\n",
      "1   6\n",
      "1   3\n",
      "1   3\n",
      "0   6\n",
      "0   4\n",
      "0   6\n",
      "0   5\n",
      "1   4\n",
      "1   7\n",
      "1   7\n",
      "1   5\n",
      "1   6\n",
      "1   4\n",
      "0   5\n",
      "1   3\n",
      "1   2\n",
      "1   1\n",
      "0   4\n",
      "0   3\n",
      "0   4\n",
      "0   4\n",
      "0   4\n",
      "0   6\n",
      "0   8\n",
      "0   9\n",
      "0   6\n",
      "0   6\n",
      "0   6\n",
      "0   7\n",
      "0   9\n",
      "0   7\n",
      "0   7\n",
      "0   6\n",
      "0   6\n",
      "0   8\n",
      "0   7\n",
      "0   7\n",
      "0   5\n",
      "0   6\n",
      "0   5\n",
      "0   6\n",
      "0   7\n",
      "0   5\n",
      "0   6\n",
      "0   5\n",
      "0   4\n",
      "0   5\n",
      "0   5\n",
      "0   4\n",
      "0   3\n",
      "0   4\n",
      "0   5\n",
      "0   3\n",
      "0   6\n",
      "0   4\n",
      "0   6\n",
      "0   3\n",
      "0   4\n",
      "0   2\n",
      "0   3\n",
      "0   6\n",
      "0   5\n",
      "0   7\n",
      "0   5\n",
      "0   7\n",
      "0   4\n",
      "0   4\n",
      "0   4\n",
      "0   5\n",
      "0   6\n",
      "0   7\n",
      "0   6\n",
      "0   6\n",
      "0   6\n",
      "0   7\n",
      "0   4\n",
      "0   4\n",
      "0   3\n",
      "0   4\n",
      "0   5\n",
      "0   6\n",
      "0   7\n",
      "0   6\n",
      "0   6\n",
      "0   6\n",
      "0   4\n",
      "0   3\n",
      "0   4\n",
      "0   3\n",
      "0   5\n",
      "0   7\n",
      "0   4\n",
      "0   7\n",
      "0   6\n",
      "0   4\n",
      "0   6\n",
      "0   4\n",
      "0   7\n",
      "0   5\n",
      "0   6\n",
      "0   8\n",
      "0   5\n",
      "0   8\n",
      "0   9\n",
      "0   6\n",
      "0   5\n",
      "0   8\n",
      "0   7\n",
      "0   5\n",
      "0   6\n",
      "0   8\n",
      "0   8\n",
      "0   6\n",
      "0   5\n",
      "0   5\n",
      "0   7\n"
     ]
    }
   ],
   "source": [
    "read_cam()"
   ]
  },
  {
   "cell_type": "code",
   "execution_count": 18,
   "metadata": {},
   "outputs": [],
   "source": [
    "def pic():\n",
    "    img = cv2.imread('IMG_20191115_154336.jpg')\n",
    "    boxes, scores, classes, nums = yolo(decode_image(\"IMG_20191115_154336.jpg\"))\n",
    "    img= draw_outputs(img, (boxes, scores, classes, nums), class_names)\n",
    "    cv2.imshow(\"output\",img)\n",
    "    if cv2.waitKey(1)== ord('q'):\n",
    "        cv2.destroyAllWindows()\n",
    "        return\n"
   ]
  },
  {
   "cell_type": "code",
   "execution_count": null,
   "metadata": {},
   "outputs": [],
   "source": [
    "pic()"
   ]
  },
  {
   "cell_type": "code",
   "execution_count": null,
   "metadata": {},
   "outputs": [],
   "source": [
    "def video"
   ]
  }
 ],
 "metadata": {
  "colab": {
   "name": "Video_stuff.ipynb",
   "provenance": []
  },
  "kernelspec": {
   "display_name": "Python 3",
   "language": "python",
   "name": "python3"
  },
  "language_info": {
   "codemirror_mode": {
    "name": "ipython",
    "version": 3
   },
   "file_extension": ".py",
   "mimetype": "text/x-python",
   "name": "python",
   "nbconvert_exporter": "python",
   "pygments_lexer": "ipython3",
   "version": "3.7.5"
  }
 },
 "nbformat": 4,
 "nbformat_minor": 1
}
